{
 "cells": [
  {
   "cell_type": "code",
   "execution_count": 300,
   "metadata": {},
   "outputs": [],
   "source": [
    "import numpy as np\n",
    "import cv2\n",
    "from sklearn.cluster import KMeans\n",
    "sift = cv2.SIFT_create(nfeatures=25)"
   ]
  },
  {
   "cell_type": "code",
   "execution_count": 301,
   "metadata": {},
   "outputs": [
    {
     "data": {
      "text/plain": [
       "True"
      ]
     },
     "execution_count": 301,
     "metadata": {},
     "output_type": "execute_result"
    }
   ],
   "source": [
    "gray = cv2.cvtColor(img, cv2.COLOR_BGR2GRAY)\n",
    "sift_image = cv2.drawKeypoints(gray, keypoints, img)\n",
    "cv2.imwrite(\"table-sift.jpg\", sift_image)"
   ]
  },
  {
   "cell_type": "code",
   "execution_count": 302,
   "metadata": {},
   "outputs": [],
   "source": [
    "def get_clusters(n_clusters, img_list):\n",
    "    kmeans = KMeans(n_clusters=n_clusters).fit(img_list)\n",
    "    return kmeans"
   ]
  },
  {
   "cell_type": "code",
   "execution_count": 303,
   "metadata": {},
   "outputs": [],
   "source": [
    "def get_sift_descriptors(sift, img):\n",
    "    keypoints, detectors = sift.detectAndCompute(img, None)\n",
    "    return detectors"
   ]
  },
  {
   "cell_type": "code",
   "execution_count": 304,
   "metadata": {},
   "outputs": [],
   "source": [
    "import os\n",
    "types = os.listdir(\"the2_data/train\")\n",
    "vocab = []\n",
    "for t in types:\n",
    "    fnames = next(os.walk(f'the2_data/train/{t}'), (None, None, []))[2]\n",
    "    for file in fnames:\n",
    "        img = cv2.imread(f'the2_data/train/{t}/{file}')\n",
    "        detectors = get_sift_descriptors(sift, img)\n",
    "        if detectors is not None:\n",
    "            for d in detectors:\n",
    "                vocab.append(d)"
   ]
  },
  {
   "cell_type": "code",
   "execution_count": 305,
   "metadata": {},
   "outputs": [],
   "source": [
    "num_of_classes = len(types)\n",
    "kmeans = get_clusters(128, vocab)"
   ]
  },
  {
   "cell_type": "code",
   "execution_count": 306,
   "metadata": {},
   "outputs": [],
   "source": [
    "bow = {}\n",
    "for t in types:\n",
    "    fnames = next(os.walk(f'the2_data/train/{t}'), (None, None, []))[2]\n",
    "    hists = []\n",
    "    for file in fnames:\n",
    "        img = cv2.imread(f'the2_data/train/{t}/{file}')\n",
    "        detectors = get_sift_descriptors(sift, img)\n",
    "        if detectors is not None:\n",
    "            det_list = detectors.astype(float)\n",
    "            predictions = kmeans.predict(det_list)\n",
    "            hist = np.histogram(predictions, bins=list(range(128)))[0]\n",
    "            hists.append(hist/np.linalg.norm(hist))\n",
    "    bow[t] = hists"
   ]
  },
  {
   "cell_type": "code",
   "execution_count": 307,
   "metadata": {},
   "outputs": [],
   "source": [
    "def predict_by_knn(k, bow, arr):\n",
    "    types = bow.keys()\n",
    "    nns = [99999] * k\n",
    "    labels = [''] * k\n",
    "    for t in types:\n",
    "        for point in bow[t]:\n",
    "            dist = get_point_distance(arr, point)\n",
    "            max_n_index = nns.index(max(nns))\n",
    "            if dist < nns[max_n_index]:\n",
    "                nns[max_n_index] = dist\n",
    "                labels[max_n_index] = t\n",
    "\n",
    "    return nns, labels"
   ]
  },
  {
   "cell_type": "code",
   "execution_count": 308,
   "metadata": {},
   "outputs": [],
   "source": [
    "img1 = cv2.imread('the2_data/validation/road/0001.png')\n",
    "img2 = cv2.imread('the2_data/validation/road/0001.png')\n",
    "keypoints1, detectors1 = sift.detectAndCompute(img1, None)\n",
    "keypoints2, detectors2 = sift.detectAndCompute(img2, None)"
   ]
  },
  {
   "cell_type": "code",
   "execution_count": 309,
   "metadata": {},
   "outputs": [
    {
     "name": "stdout",
     "output_type": "stream",
     "text": [
      "[123  77  77  77   4]\n"
     ]
    }
   ],
   "source": [
    "predictions1 = kmeans.predict(detectors1.astype(float))\n",
    "predictions2 = kmeans.predict(detectors2.astype(float))\n",
    "print(predictions1)"
   ]
  },
  {
   "cell_type": "code",
   "execution_count": 310,
   "metadata": {},
   "outputs": [],
   "source": [
    "hh1 = np.histogram(predictions1, bins=list(range(128)))[0]\n",
    "hh2 = np.histogram(predictions2, bins=list(range(128)))[0]"
   ]
  },
  {
   "cell_type": "code",
   "execution_count": 311,
   "metadata": {},
   "outputs": [
    {
     "name": "stdout",
     "output_type": "stream",
     "text": [
      "['cup', 'crab', 'road', 'aquarium_fish', 'road', 'beetle', 'road', 'beetle']\n"
     ]
    },
    {
     "data": {
      "text/plain": [
       "'road'"
      ]
     },
     "execution_count": 311,
     "metadata": {},
     "output_type": "execute_result"
    }
   ],
   "source": [
    "a = predict_by_knn(8, bow, hh1)[1]\n",
    "print(a)\n",
    "max(set(a), key = a.count)"
   ]
  },
  {
   "cell_type": "code",
   "execution_count": 329,
   "metadata": {},
   "outputs": [],
   "source": [
    "def get_acc(bow, kmeans, kk, sift, types, knn):\n",
    "    count = 0\n",
    "    correct = 0\n",
    "    pred_list = []\n",
    "    truth_list = []\n",
    "    for t in types:\n",
    "        fnames = next(os.walk(f'the2_data/validation/{t}'), (None, None, []))[2]\n",
    "        for file in fnames:\n",
    "            img = cv2.imread(f'the2_data/validation/{t}/{file}')\n",
    "            detectors = get_sift_descriptors(sift, img)\n",
    "            if detectors is not None:\n",
    "                pred = kmeans.predict(detectors.astype(float))\n",
    "                h_hist = np.histogram(pred, bins=list(range(kk)))[0]\n",
    "                a = predict_by_knn(knn, bow, h_hist)[1]\n",
    "                result = max(set(a), key = a.count)\n",
    "                count += 1\n",
    "                if result == t:\n",
    "                    correct += 1\n",
    "                pred_list.append(result)\n",
    "                truth_list.append(t)\n",
    "    print(correct, count)\n",
    "    return (correct/count)*100, pred_list, truth_list"
   ]
  },
  {
   "cell_type": "code",
   "execution_count": 317,
   "metadata": {},
   "outputs": [],
   "source": [
    "# kmeans 128 nfeatures=25 sift --> 307 1498"
   ]
  },
  {
   "cell_type": "code",
   "execution_count": null,
   "metadata": {},
   "outputs": [],
   "source": [
    "print(get_acc(bow, kmeans, 128, cv2.SIFT_create(nOctaveLayers=12), types, 16))\n"
   ]
  },
  {
   "cell_type": "code",
   "execution_count": 318,
   "metadata": {},
   "outputs": [
    {
     "name": "stdout",
     "output_type": "stream",
     "text": [
      "301 1499\n",
      "20.08005336891261\n",
      "--------\n",
      "270 1456\n",
      "18.543956043956044\n",
      "--------\n",
      "306 1498\n",
      "20.427236315086784\n",
      "--------\n",
      "28 229\n",
      "12.22707423580786\n",
      "--------\n"
     ]
    }
   ],
   "source": [
    "print(get_acc(bow, kmeans, 128, cv2.SIFT_create(nOctaveLayers=5), types, 8))\n",
    "print(\"--------\")\n",
    "print(get_acc(bow, kmeans, 128, cv2.SIFT_create(contrastThreshold=0.08), types, 8))\n",
    "print(\"--------\")\n",
    "print(get_acc(bow, kmeans, 128, cv2.SIFT_create(edgeThreshold=20), types, 8))\n",
    "print(\"--------\")\n",
    "print(get_acc(bow, kmeans, 128, cv2.SIFT_create(sigma=10), types, 8))\n",
    "print(\"--------\")\n"
   ]
  },
  {
   "cell_type": "code",
   "execution_count": 330,
   "metadata": {},
   "outputs": [
    {
     "name": "stdout",
     "output_type": "stream",
     "text": [
      "328 1498\n",
      "348 1498\n",
      "346 1498\n"
     ]
    }
   ],
   "source": [
    "acc16, pred16, truth16 = get_acc(get_bow(types, sift, kmeans, 128), kmeans, 128, cv2.SIFT_create(nOctaveLayers=12), types, 16)\n",
    "acc32, pred32, truth32 = get_acc(get_bow(types, sift, kmeans, 128), kmeans, 128, cv2.SIFT_create(nOctaveLayers=12), types, 32)\n",
    "acc64, pred64, truth64 = get_acc(get_bow(types, sift, kmeans, 128), kmeans, 128, cv2.SIFT_create(nOctaveLayers=12), types, 64)"
   ]
  },
  {
   "cell_type": "code",
   "execution_count": 333,
   "metadata": {},
   "outputs": [
    {
     "data": {
      "text/plain": [
       "array([[49,  3,  3,  9,  0,  0,  4, 13, 10,  0,  2,  0,  1,  5,  1],\n",
       "       [10,  6,  1,  7,  9,  1,  5, 10, 13,  6,  4,  2,  4, 15,  7],\n",
       "       [ 9,  0, 14, 10,  1,  0,  4, 10,  5,  4, 12,  1,  5, 22,  2],\n",
       "       [ 8,  5,  2, 20, 12,  4,  7, 18,  3,  3,  1,  0,  2,  8,  7],\n",
       "       [ 5,  3,  0,  7, 18,  4,  5, 13, 11,  1, 11,  0,  6, 14,  2],\n",
       "       [10,  4,  3, 12,  3,  1,  4, 11, 21,  6,  6,  3,  3, 12,  1],\n",
       "       [15,  1,  2, 10,  6,  1, 13, 18, 10,  4,  3,  2,  3, 12,  0],\n",
       "       [26,  0,  2,  7,  0,  2,  0, 50,  5,  3,  0,  0,  0,  3,  2],\n",
       "       [ 7,  1,  2,  5,  1,  0,  4,  8, 57,  5,  3,  0,  2,  5,  0],\n",
       "       [ 8,  0,  1,  4,  2,  2,  1, 13, 35, 15,  6,  2,  1,  6,  3],\n",
       "       [15,  3,  5,  3,  2,  3,  3, 10, 14,  4, 23,  3,  2,  9,  1],\n",
       "       [13,  3,  2,  9,  1,  0,  1, 11,  8,  2, 12, 15,  3, 18,  2],\n",
       "       [18,  2,  2,  5,  0,  2,  3, 17, 12,  4,  9,  3,  4, 18,  1],\n",
       "       [ 1,  3,  3,  3,  3,  0,  4,  4,  5,  2, 12,  0,  0, 58,  2],\n",
       "       [11,  8,  1, 12,  6,  1,  7, 16,  4,  5, 10,  1,  2, 13,  3]])"
      ]
     },
     "execution_count": 333,
     "metadata": {},
     "output_type": "execute_result"
    }
   ],
   "source": [
    "from sklearn.metrics import confusion_matrix\n",
    "confusion_matrix(truth64, pred64, labels=types)"
   ]
  },
  {
   "cell_type": "code",
   "execution_count": 324,
   "metadata": {},
   "outputs": [],
   "source": [
    "def get_bow(types, sift, kmeans, kk):\n",
    "    bow = {}\n",
    "    for t in types:\n",
    "        fnames = next(os.walk(f'the2_data/train/{t}'), (None, None, []))[2]\n",
    "        hists = []\n",
    "        for file in fnames:\n",
    "            img = cv2.imread(f'the2_data/train/{t}/{file}')\n",
    "            detectors = get_sift_descriptors(sift, img)\n",
    "            if detectors is not None:\n",
    "                det_list = detectors.astype(float)\n",
    "                predictions = kmeans.predict(det_list)\n",
    "                hist = np.histogram(predictions, bins=list(range(kk)))[0]\n",
    "                hists.append(hist/np.linalg.norm(hist))\n",
    "        bow[t] = hists\n",
    "    return bow"
   ]
  },
  {
   "cell_type": "code",
   "execution_count": 327,
   "metadata": {},
   "outputs": [
    {
     "name": "stdout",
     "output_type": "stream",
     "text": [
      "307 1498\n",
      "20.493991989319092\n",
      "307 1498\n",
      "20.493991989319092\n"
     ]
    }
   ],
   "source": [
    "print(get_acc(get_bow(types, sift, kmeans, 256), kmeans, 256, cv2.SIFT_create(nfeatures=25), types, 8))\n",
    "print(get_acc(get_bow(types, sift, kmeans, 512), kmeans, 512, cv2.SIFT_create(nfeatures=25), types, 8))\n",
    "#20.56 cıktı noctave 12 icin"
   ]
  },
  {
   "cell_type": "code",
   "execution_count": 314,
   "metadata": {},
   "outputs": [],
   "source": [
    "np.save(\"cluster_centers\",ccenters)"
   ]
  },
  {
   "cell_type": "code",
   "execution_count": 45,
   "metadata": {},
   "outputs": [],
   "source": [
    "cc = np.load(\"cluster_centers.npy\")"
   ]
  },
  {
   "cell_type": "code",
   "execution_count": 71,
   "metadata": {},
   "outputs": [],
   "source": [
    "def get_point_distance(arr1, arr2):\n",
    "    return np.linalg.norm(arr1-arr2)"
   ]
  },
  {
   "cell_type": "code",
   "execution_count": null,
   "metadata": {},
   "outputs": [],
   "source": []
  }
 ],
 "metadata": {
  "interpreter": {
   "hash": "31f2aee4e71d21fbe5cf8b01ff0e069b9275f58929596ceb00d14d90e3e16cd6"
  },
  "kernelspec": {
   "display_name": "Python 3.8.10 64-bit",
   "language": "python",
   "name": "python3"
  },
  "language_info": {
   "codemirror_mode": {
    "name": "ipython",
    "version": 3
   },
   "file_extension": ".py",
   "mimetype": "text/x-python",
   "name": "python",
   "nbconvert_exporter": "python",
   "pygments_lexer": "ipython3",
   "version": "3.8.10"
  },
  "orig_nbformat": 4
 },
 "nbformat": 4,
 "nbformat_minor": 2
}
